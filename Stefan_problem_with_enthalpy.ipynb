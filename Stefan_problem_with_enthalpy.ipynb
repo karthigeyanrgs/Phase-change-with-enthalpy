{
 "cells": [
  {
   "cell_type": "markdown",
   "metadata": {},
   "source": [
    "# Importing the required libraries."
   ]
  },
  {
   "cell_type": "code",
   "execution_count": 2,
   "metadata": {},
   "outputs": [],
   "source": [
    "import fenics as fe"
   ]
  },
  {
   "cell_type": "code",
   "execution_count": 3,
   "metadata": {},
   "outputs": [],
   "source": [
    "import matplotlib.pyplot as plt"
   ]
  },
  {
   "cell_type": "code",
   "execution_count": 4,
   "metadata": {},
   "outputs": [],
   "source": [
    "import numpy as np"
   ]
  },
  {
   "cell_type": "markdown",
   "metadata": {},
   "source": [
    "# Stefan Problem"
   ]
  },
  {
   "cell_type": "markdown",
   "metadata": {},
   "source": [
    "                                     We need to solve the energy equation,\n",
    "     \n",
    "                                             𝜌(𝜕𝑡ℎ+𝑢∙∇ℎ)=𝑘∆T.\n",
    "         \n",
    "                                                     where 𝜌 = density\n",
    "                                                               \n",
    "                                                     𝜕𝑡ℎ = derivative of enthalpy with respect \n",
    "                                                     to temperature \n",
    "                                                       \n",
    "                                                     𝑢= velocity of the fluid in consideration  \n",
    "                                    \n",
    "                                     For the stefan problem, the following assumptions are made:\n",
    "                                <ul>\n",
    "                                <li>The specific heat capacity is constant.</li>\n",
    "                                <li> $u.∇(\\phi)$= small and negligible</li>\n",
    "                                </ul>\n",
    "\n",
    "                                     Writing it in weak form, here v is the test function\n",
    "     \n",
    "                                             (𝑣,𝜕𝑡ℎ)=−𝑑𝑇/𝑑ℎ(𝑘/𝜌)(∇𝑣,∇ℎ)\n",
    "\n",
    "                                     Since it is a non-linear problem,\n",
    "      \n",
    "                                      F= (𝑣,𝜕𝑡ℎ)+𝑑𝑇/𝑑ℎ (𝑘/𝜌)(∇𝑣,∇ℎ)=0\n",
    "      \n",
    "                                     is solved by newton's method.\n",
    "       "
   ]
  },
  {
   "cell_type": "code",
   "execution_count": 9,
   "metadata": {
    "scrolled": true
   },
   "outputs": [
    {
     "name": "stdout",
     "output_type": "stream",
     "text": [
      "f_265\n"
     ]
    },
    {
     "data": {
      "image/png": "[encoded data removed]",
      "text/plain": [
       "<matplotlib.figure.Figure at 0x7fab13247890>"
      ]
     },
     "metadata": {},
     "output_type": "display_data"
    }
   ],
   "source": [
    "Mesh_size=100     #Taking the mesh size to be 100\n",
    "L=1.01/0.045      #The latent heat of fusion of ice. Stefan number is 0.045\n",
    "mesh = fe.UnitIntervalMesh(Mesh_size) #One Dimensional mesh\n",
    "P1 = fe.FiniteElement('P', mesh.ufl_cell(), 1)\n",
    "V = fe.FunctionSpace(mesh, P1)  #Function space spanned by piecewise linear polynomials\n",
    "v = fe.TestFunction(V)   #Test function\n",
    "h = fe.Function(V)       #Enthalpy-Trial function\n",
    "ste=fe.Constant(0.045)   #Stefan Number\n",
    "prandl_number=fe.Constant(1)\n",
    "rho=1     #Density\n",
    "K=1       #thermal conductivity\n",
    "c=1       #Specific heat of capacity\n",
    "def phis(h):      #Function phi in terms of enthalpy\n",
    "\tr=0.025       #smoothing parameter  \n",
    "\treturn 0.5*(1. + fe.tanh((-h)/r)) \n",
    "def T(h):     #Temperature as a function of enthalpy\n",
    "\treturn c*(h**3)    # Approximating the fuction to be cubic such that it closely resemble the physics of the problem\n",
    "T=T(h)\n",
    "phi_h=phis(h)\n",
    "#Boundary conditions and interpolating the values in between\n",
    "hot_wall_enthalpy = 0\n",
    "h_h = fe.Constant(hot_wall_enthalpy)\n",
    "cold_wall_enthalpy = c\n",
    "h_c = fe.Constant(cold_wall_enthalpy)\n",
    "initial_melt_thickness = 10./float(Mesh_size)\n",
    "h_n = fe.interpolate(                               #Interpolating the values in between the two extreme boundary walls.\n",
    "    fe.Expression(\n",
    "        \"(h_h - h_c)*(x[0] < x_m0) + h_c\",\n",
    "        h_h = hot_wall_enthalpy, \n",
    "        h_c = cold_wall_enthalpy,\n",
    "        x_m0 = initial_melt_thickness,\n",
    "        element = P1),\n",
    "    V)\n",
    "timestep_size = 1.e-2\n",
    "Delta_t = fe.Constant(timestep_size)                   #Time difference to be taken as constant of 10e-2\n",
    "T_t = (T )/Delta_t\n",
    "phi_t = (phis(h) - phis(h))/Delta_t                    #{d\\phi}/{d\\t}\n",
    "h_t=(h-h_n)/Delta_t                                    #{d\\h}/{d\\t} but as piecewise as we know the intermediate values   \n",
    "diffth=3*c*(h**2)                                      #{d\\T}/{d\\h} Simple gateaux derivative of the c*h^3 function\n",
    "F=(diffth*(fe.dot(fe.grad(v),fe.grad(h)))+(rho/K)*(v*h_t))*fe.dx    #The nonlinear function to be solved is assembled\n",
    "JF = fe.derivative(F, h, fe.TrialFunction(V))       #Taking the derivative of the non linear function to solve by newton's method\n",
    "#Setting the boundary conditions to capture the values near the boundary too as we are working in inexact arithmetic.\n",
    "hot_wall = \"near(x[0],  0)\"\n",
    "cold_wall = \"near(x[0],  1.0)\"\n",
    "hot_enthalpy=0\n",
    "cold_enthalpy=c\n",
    "boundary_conditions = [\n",
    "fe.DirichletBC(V, hot_enthalpy, hot_wall),\n",
    "fe.DirichletBC(V, cold_enthalpy, cold_wall)]\n",
    "#Invoking the Newton's method\n",
    "problem = fe.NonlinearVariationalProblem(F, h, boundary_conditions, JF)\n",
    "solver = fe.NonlinearVariationalSolver(problem)\n",
    "solver.solve()\n",
    "#Printing and plotting the solution\n",
    "print(h)\n",
    "fe.plot(h)\n",
    "plt.xlabel('x')\n",
    "plt.ylabel('Enthalpy')\n",
    "plt.title('Enthaply after solving using newton''s method')\n",
    "plt.show()\n",
    "\n"
   ]
  },
  {
   "cell_type": "code",
   "execution_count": null,
   "metadata": {},
   "outputs": [],
   "source": []
  }
 ],
 "metadata": {
  "kernelspec": {
   "display_name": "Python 2",
   "language": "python",
   "name": "python2"
  },
  "language_info": {
   "codemirror_mode": {
    "name": "ipython",
    "version": 2
   },
   "file_extension": ".py",
   "mimetype": "text/x-python",
   "name": "python",
   "nbconvert_exporter": "python",
   "pygments_lexer": "ipython2",
   "version": "2.7.12"
  }
 },
 "nbformat": 4,
 "nbformat_minor": 2
}
